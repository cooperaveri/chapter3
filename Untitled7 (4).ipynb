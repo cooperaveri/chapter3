{
 "cells": [
  {
   "cell_type": "markdown",
   "id": "4b58555e-ef19-476f-b741-d861951c2237",
   "metadata": {},
   "source": [
    "Chapter 3 Ex."
   ]
  },
  {
   "cell_type": "markdown",
   "id": "184ab1fb-1d40-49f0-943b-a8cb7e9badfc",
   "metadata": {},
   "source": [
    "# algorithm workbench 4,5"
   ]
  },
  {
   "cell_type": "markdown",
   "id": "9787c5ec-832d-46b9-9759-ee32e9f9b21d",
   "metadata": {},
   "source": [
    "## 4. Rewrite code and use the proper conventions of alignment and indentation"
   ]
  },
  {
   "cell_type": "markdown",
   "id": "1fb84afb-426f-4b2e-9c9e-3fab710fccd0",
   "metadata": {},
   "source": [
    "### 1.\n",
    "\n",
    "if score >= A_score:\n",
    "\n",
    "print('Your grade is A. ')\n",
    "\n",
    "else:"
   ]
  },
  {
   "cell_type": "markdown",
   "id": "931906bf-fca5-4d67-a6d6-0e87baeb7f11",
   "metadata": {},
   "source": [
    "missing the indent on print and else, should look like:"
   ]
  },
  {
   "cell_type": "code",
   "execution_count": 15,
   "id": "8f4b2baf-bbb0-45db-92c4-f3e32d090bf1",
   "metadata": {},
   "outputs": [
    {
     "name": "stdout",
     "output_type": "stream",
     "text": [
      "Your grade is not A. \n"
     ]
    }
   ],
   "source": [
    "score=80 \n",
    "A_score=85\n",
    "\n",
    "if score >= A_score:\n",
    "\n",
    "    print('Your grade is A. ')\n",
    "    \n",
    "else: \n",
    "    \n",
    "    print('Your grade is not A. ')"
   ]
  },
  {
   "cell_type": "markdown",
   "id": "9a4f88a6-2259-4fd4-be45-cfcceffa4797",
   "metadata": {},
   "source": [
    "### 2. \n",
    "\n",
    "if score >= B_score:\n",
    "\n",
    "print('Your grade is B.')\n",
    "\n",
    "else:\n"
   ]
  },
  {
   "cell_type": "markdown",
   "id": "3d7bcd43-b7b6-4d5c-9504-aea8c2988b6c",
   "metadata": {},
   "source": [
    "missing indent on print and else, should look like:"
   ]
  },
  {
   "cell_type": "code",
   "execution_count": 19,
   "id": "35bb6af3-2c0c-4d24-84e3-6e9bd808b35a",
   "metadata": {},
   "outputs": [
    {
     "name": "stdout",
     "output_type": "stream",
     "text": [
      "Your grade is not B. \n"
     ]
    }
   ],
   "source": [
    "score=70\n",
    "B_score=75\n",
    "\n",
    "if score >= A_score:\n",
    "    print('Your grade is B. ')\n",
    "else:\n",
    "    print('Your grade is not B. ')"
   ]
  },
  {
   "cell_type": "markdown",
   "id": "ff25525e-d127-405a-b735-c926374e94d3",
   "metadata": {},
   "source": [
    "### 3.\n",
    "\n",
    "if score >= C_score:\n",
    "\n",
    "print('Your grade is C. ')\n",
    "\n",
    "else:"
   ]
  },
  {
   "cell_type": "markdown",
   "id": "5d531cfd-0fa7-4348-9a7b-4b2bbd5aec06",
   "metadata": {},
   "source": [
    "missing indents and else, should look like:"
   ]
  },
  {
   "cell_type": "code",
   "execution_count": 26,
   "id": "6e5ef121-bcf4-4156-80bf-fc256c61170a",
   "metadata": {},
   "outputs": [
    {
     "ename": "SyntaxError",
     "evalue": "unterminated string literal (detected at line 6) (2002121837.py, line 6)",
     "output_type": "error",
     "traceback": [
      "\u001b[0;36m  Cell \u001b[0;32mIn[26], line 6\u001b[0;36m\u001b[0m\n\u001b[0;31m    print(Your grade is not C. ')\u001b[0m\n\u001b[0m                               ^\u001b[0m\n\u001b[0;31mSyntaxError\u001b[0m\u001b[0;31m:\u001b[0m unterminated string literal (detected at line 6)\n"
     ]
    }
   ],
   "source": [
    "score=60\n",
    "C_score=65\n",
    "if score >= C_score:\n",
    "    print('Your grade is C. ')\n",
    "else:\n",
    "    print(Your grade is not C. ')"
   ]
  },
  {
   "cell_type": "code",
   "execution_count": 28,
   "id": "5297133d-e05e-4c0e-8b6e-bf78cdea6e16",
   "metadata": {},
   "outputs": [
    {
     "name": "stdout",
     "output_type": "stream",
     "text": [
      "Your grade is not C. \n"
     ]
    }
   ],
   "source": [
    "score=60\n",
    "C_score=65\n",
    "\n",
    "if score >= C_score:\n",
    "    print('Your grade is C. ')\n",
    "else:\n",
    "    print('Your grade is not C. ')"
   ]
  },
  {
   "cell_type": "markdown",
   "id": "2f737ff3-871d-476a-973f-7db2a2f75efc",
   "metadata": {},
   "source": [
    "### 4.\n",
    "\n",
    "if score >= D_score:\n",
    "    \n",
    "print('Your grade is D. ')\n",
    "\n",
    "else:\n",
    "    \n",
    "print('Your grade is F. ')"
   ]
  },
  {
   "cell_type": "markdown",
   "id": "28505579-94aa-438f-ab72-91555dc8737a",
   "metadata": {},
   "source": [
    "missing indentations, should look like:"
   ]
  },
  {
   "cell_type": "code",
   "execution_count": 32,
   "id": "568cf12d-41b9-4155-a469-786687905b61",
   "metadata": {},
   "outputs": [
    {
     "name": "stdout",
     "output_type": "stream",
     "text": [
      "Your grade is F. \n"
     ]
    }
   ],
   "source": [
    "score=50\n",
    "D_score=55\n",
    "if score >= D_score:\n",
    "    print('Your grade is D. ')\n",
    "else:\n",
    "    print('Your grade is F. ')"
   ]
  },
  {
   "cell_type": "markdown",
   "id": "bef71d69-24eb-4764-91ad-562beab6cd20",
   "metadata": {
    "tags": []
   },
   "source": [
    "## 5. Write nested decision structures that preform the following:"
   ]
  },
  {
   "cell_type": "markdown",
   "id": "9b48ef87-249c-46bd-8254-5985f13eb87e",
   "metadata": {},
   "source": [
    "if amount1 is greater than 10 and amount2 is less than 100, display the greater of amount 1 and amount 2"
   ]
  },
  {
   "cell_type": "code",
   "execution_count": 39,
   "id": "2f215c55-2a81-46af-af8a-9b530275cfad",
   "metadata": {},
   "outputs": [
    {
     "ename": "SyntaxError",
     "evalue": "unterminated string literal (detected at line 13) (2203384203.py, line 13)",
     "output_type": "error",
     "traceback": [
      "\u001b[0;36m  Cell \u001b[0;32mIn[39], line 13\u001b[0;36m\u001b[0m\n\u001b[0;31m    print(amount1 is not greater than 10.')\u001b[0m\n\u001b[0m                                         ^\u001b[0m\n\u001b[0;31mSyntaxError\u001b[0m\u001b[0;31m:\u001b[0m unterminated string literal (detected at line 13)\n"
     ]
    }
   ],
   "source": [
    "amount1 = 20  \n",
    "amount2 = 60 \n",
    "\n",
    "if amount1 > 10:\n",
    "    if amount2 < 100:\n",
    "        if amount1 > amount2:\n",
    "            print('The greater amount is amount1' amount1)\n",
    "        else:\n",
    "            print('The greater amount is amount2:', amount2)\n",
    "    else:\n",
    "        print('amount2 is not less than 100.')\n",
    "else:\n",
    "    print(amount1 is not greater than 10.')"
   ]
  },
  {
   "cell_type": "markdown",
   "id": "dac58b33-1cb3-42d2-a2c6-ad94f869d469",
   "metadata": {},
   "source": [
    "missing quotation should look like:"
   ]
  },
  {
   "cell_type": "code",
   "execution_count": 42,
   "id": "f4fa2a2f-532d-41ca-89d4-ef49c159eed4",
   "metadata": {},
   "outputs": [
    {
     "name": "stdout",
     "output_type": "stream",
     "text": [
      "The greater amount is amount2: 60\n"
     ]
    }
   ],
   "source": [
    "amount1 = 20 \n",
    "amount2 = 60 \n",
    "\n",
    "if amount1 > 10:\n",
    "    if amount2 < 100:\n",
    "        if amount1 > amount2:\n",
    "            print('The greater amount is amount1:', amount1)\n",
    "        else:\n",
    "            print('The greater amount is amount2:', amount2)\n",
    "    else:\n",
    "        print('amount2 is not less than 100.')\n",
    "else:\n",
    "    print('amount1 is not greater than 10.')"
   ]
  },
  {
   "cell_type": "markdown",
   "id": "772d8f5b-d96b-444f-bc59-2b55e229f3f6",
   "metadata": {},
   "source": [
    "# programming excercises 1,5"
   ]
  },
  {
   "cell_type": "markdown",
   "id": "b52e080a-c729-406e-8ffc-ffa17ae632b6",
   "metadata": {},
   "source": [
    "## 1. write a program that asks the user for a number in the range of 1-7, days of week, display error message is user enters number outside 1-7"
   ]
  },
  {
   "cell_type": "code",
   "execution_count": 46,
   "id": "76208726-f005-4f41-a662-51e3a0587d99",
   "metadata": {},
   "outputs": [
    {
     "ename": "IndentationError",
     "evalue": "unexpected indent (93888278.py, line 3)",
     "output_type": "error",
     "traceback": [
      "\u001b[0;36m  Cell \u001b[0;32mIn[46], line 3\u001b[0;36m\u001b[0m\n\u001b[0;31m    day_number = int(user_input)\u001b[0m\n\u001b[0m    ^\u001b[0m\n\u001b[0;31mIndentationError\u001b[0m\u001b[0;31m:\u001b[0m unexpected indent\n"
     ]
    }
   ],
   "source": [
    "user_input = input('Enter a number (1 - 7): ')\n",
    "\n",
    "    day_number = int(user_input)\n",
    "\n",
    "   \n",
    "    if 1 <= day_number <= 7:\n",
    "        \n",
    "        days_of_week = ['Monday', 'Tuesday', 'Wednesday', 'Thursday', 'Friday', 'Saturday', 'Sunday']\n",
    "\n",
    "       \n",
    "        day_name = days_of_week[day_number - 1]\n",
    "        \n",
    "       \n",
    "        print('The corresponding day of the week is:', day_name)\n",
    "    \n",
    "    else:\n",
    "       \n",
    "       print('Error: Please enter a number in the range of 1 - 7.')\n",
    "       \n",
    "except ValueError:\n",
    "    \n",
    "    print('Error: Invalid input. Please enter a valid number.')"
   ]
  },
  {
   "cell_type": "code",
   "execution_count": 77,
   "id": "1347120f-5396-424c-898d-60efd8a5f7f6",
   "metadata": {},
   "outputs": [
    {
     "ename": "IndentationError",
     "evalue": "unindent does not match any outer indentation level (<tokenize>, line 6)",
     "output_type": "error",
     "traceback": [
      "\u001b[0;36m  File \u001b[0;32m<tokenize>:6\u001b[0;36m\u001b[0m\n\u001b[0;31m    if 1 <= day_number <= 7:\u001b[0m\n\u001b[0m    ^\u001b[0m\n\u001b[0;31mIndentationError\u001b[0m\u001b[0;31m:\u001b[0m unindent does not match any outer indentation level\n"
     ]
    }
   ],
   "source": [
    "user_input = input('Enter a number (1 - 7): ')\n",
    "\n",
    "        day_number = int(user_input)\n",
    "\n",
    "   \n",
    "    if 1 <= day_number <= 7:\n",
    "        \n",
    "        days_of_week = ['Monday', 'Tuesday', 'Wednesday', 'Thursday', 'Friday', 'Saturday', 'Sunday']\n",
    "\n",
    "       \n",
    "        day_name = days_of_week[day_number - 1]\n",
    "        \n",
    "       \n",
    "        print('The corresponding day of the week is:', day_name)\n",
    "    \n",
    "    else:\n",
    "       \n",
    "       print('Error: Please enter a number in the range of 1 - 7.')\n",
    "       \n",
    "except ValueError:\n",
    "    \n",
    "    print('Error: Invalid input. Please enter a valid number.')"
   ]
  },
  {
   "cell_type": "code",
   "execution_count": 105,
   "id": "75dc164d-8f88-4286-9fae-8237ec859b7c",
   "metadata": {},
   "outputs": [
    {
     "name": "stdin",
     "output_type": "stream",
     "text": [
      "Enter a number (1 - 7):  5\n",
      "Enter a number (1 - 7):  1\n"
     ]
    },
    {
     "name": "stdout",
     "output_type": "stream",
     "text": [
      "The corresponding day of the week is: Monday\n"
     ]
    }
   ],
   "source": [
    "\n",
    "user_input = input('Enter a number (1 - 7): ')\n",
    "try:\n",
    "    user_input = input('Enter a number (1 - 7): ')\n",
    "    day_number = int(user_input)\n",
    "\n",
    "    if 1 <= day_number <= 7:\n",
    "        days_of_week = ['Monday', 'Tuesday', 'Wednesday', 'Thursday', 'Friday', 'Saturday', 'Sunday']\n",
    "        day_name = days_of_week[day_number - 1]\n",
    "        print('The corresponding day of the week is:', day_name)\n",
    "    else:\n",
    "        print('Error: Please enter a number in the range of 1 - 7.')\n",
    "except ValueError:\n",
    "    print('Error: Invalid input. Please enter a valid number.')"
   ]
  },
  {
   "cell_type": "markdown",
   "id": "f7fd8703-68e1-401f-a802-04b4a2961341",
   "metadata": {},
   "source": [
    "## 5. write a program that asks the user to enter an objects mass, then calculates its weight. I weight is more than 500 newtons, display message saying too heavy. if the object weighs less than 100 newtons, display a message saying that it is too light"
   ]
  },
  {
   "cell_type": "code",
   "execution_count": null,
   "id": "a1931e93-5181-4fda-bf32-870e45555a1d",
   "metadata": {},
   "outputs": [],
   "source": [
    "mass = float(input(\"Enter the mass of the object (in kilograms): \"))\n",
    "if weight > 500:\n",
    "    print(\"The object is too heavy. Weight:\", weight, \"newtons\")\n",
    "elif weight < 100:\n",
    "    print(\"The object is too light. Weight:\", weight, \"newtons\")\n",
    "else:\n",
    "    print(\"The object is within an acceptable weight range. Weight:\", weight, \"newtons\")"
   ]
  },
  {
   "cell_type": "code",
   "execution_count": null,
   "id": "0c8ca40a-129f-400c-857e-6d8047e2d577",
   "metadata": {},
   "outputs": [],
   "source": []
  }
 ],
 "metadata": {
  "kernelspec": {
   "display_name": "anaconda-panel-2023.05-py310",
   "language": "python",
   "name": "conda-env-anaconda-panel-2023.05-py310-py"
  },
  "language_info": {
   "codemirror_mode": {
    "name": "ipython",
    "version": 3
   },
   "file_extension": ".py",
   "mimetype": "text/x-python",
   "name": "python",
   "nbconvert_exporter": "python",
   "pygments_lexer": "ipython3",
   "version": "3.11.4"
  }
 },
 "nbformat": 4,
 "nbformat_minor": 5
}
