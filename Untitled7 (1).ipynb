{
 "cells": [
  {
   "cell_type": "markdown",
   "id": "4b58555e-ef19-476f-b741-d861951c2237",
   "metadata": {},
   "source": [
    "Chapter 3 Ex."
   ]
  },
  {
   "cell_type": "markdown",
   "id": "184ab1fb-1d40-49f0-943b-a8cb7e9badfc",
   "metadata": {},
   "source": [
    "# algorithm workbench 4,5"
   ]
  },
  {
   "cell_type": "markdown",
   "id": "9787c5ec-832d-46b9-9759-ee32e9f9b21d",
   "metadata": {},
   "source": [
    "## 4. Rewrite code and use the proper conventions of alignment and indentation"
   ]
  },
  {
   "cell_type": "markdown",
   "id": "1fb84afb-426f-4b2e-9c9e-3fab710fccd0",
   "metadata": {},
   "source": [
    "### 1.\n",
    "\n",
    "if score >= A_score:\n",
    "\n",
    "print('Your grade is A. ')\n",
    "\n",
    "else:"
   ]
  },
  {
   "cell_type": "markdown",
   "id": "931906bf-fca5-4d67-a6d6-0e87baeb7f11",
   "metadata": {},
   "source": [
    "missing the indent on print and else, should look like:"
   ]
  },
  {
   "cell_type": "code",
   "execution_count": 15,
   "id": "8f4b2baf-bbb0-45db-92c4-f3e32d090bf1",
   "metadata": {},
   "outputs": [
    {
     "name": "stdout",
     "output_type": "stream",
     "text": [
      "Your grade is not A. \n"
     ]
    }
   ],
   "source": [
    "score=80 \n",
    "A_score=85\n",
    "\n",
    "if score >= A_score:\n",
    "\n",
    "    print('Your grade is A. ')\n",
    "    \n",
    "else: \n",
    "    \n",
    "    print('Your grade is not A. ')"
   ]
  },
  {
   "cell_type": "markdown",
   "id": "9a4f88a6-2259-4fd4-be45-cfcceffa4797",
   "metadata": {},
   "source": [
    "### 2. \n",
    "\n",
    "if score >= B_score:\n",
    "\n",
    "print('Your grade is B.')\n",
    "\n",
    "else:\n"
   ]
  },
  {
   "cell_type": "markdown",
   "id": "3d7bcd43-b7b6-4d5c-9504-aea8c2988b6c",
   "metadata": {},
   "source": [
    "missing indent on print and else, should look like:"
   ]
  },
  {
   "cell_type": "code",
   "execution_count": 19,
   "id": "35bb6af3-2c0c-4d24-84e3-6e9bd808b35a",
   "metadata": {},
   "outputs": [
    {
     "name": "stdout",
     "output_type": "stream",
     "text": [
      "Your grade is not B. \n"
     ]
    }
   ],
   "source": [
    "score=70\n",
    "B_score=75\n",
    "\n",
    "if score >= A_score:\n",
    "    print('Your grade is B. ')\n",
    "else:\n",
    "    print('Your grade is not B. ')"
   ]
  },
  {
   "cell_type": "markdown",
   "id": "ff25525e-d127-405a-b735-c926374e94d3",
   "metadata": {},
   "source": [
    "### 3.\n",
    "\n",
    "if score >= C_score:\n",
    "\n",
    "print('Your grade is C. ')\n",
    "\n",
    "else:"
   ]
  },
  {
   "cell_type": "markdown",
   "id": "5d531cfd-0fa7-4348-9a7b-4b2bbd5aec06",
   "metadata": {},
   "source": [
    "missing indents and else, should look like:"
   ]
  },
  {
   "cell_type": "markdown",
   "id": "b703312d-abc3-41e6-a3cf-f6991338c17f",
   "metadata": {},
   "source": [
    "score=60\n",
    "C_score=65\n",
    "if score >= C_score:\n",
    "    print('Your grade is C. ')\n",
    "else:\n",
    "    print(Your grade is not C. ')"
   ]
  }
 ],
 "metadata": {
  "kernelspec": {
   "display_name": "anaconda-panel-2023.05-py310",
   "language": "python",
   "name": "conda-env-anaconda-panel-2023.05-py310-py"
  },
  "language_info": {
   "codemirror_mode": {
    "name": "ipython",
    "version": 3
   },
   "file_extension": ".py",
   "mimetype": "text/x-python",
   "name": "python",
   "nbconvert_exporter": "python",
   "pygments_lexer": "ipython3",
   "version": "3.11.4"
  }
 },
 "nbformat": 4,
 "nbformat_minor": 5
}
